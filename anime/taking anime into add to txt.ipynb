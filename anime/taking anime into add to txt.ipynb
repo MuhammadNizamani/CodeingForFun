{
 "cells": [
  {
   "cell_type": "code",
   "execution_count": 1,
   "id": "b72b77a8",
   "metadata": {},
   "outputs": [],
   "source": [
    "import pandas as pd"
   ]
  },
  {
   "cell_type": "code",
   "execution_count": 16,
   "id": "f5d4f1b9",
   "metadata": {},
   "outputs": [],
   "source": [
    "df = pd.read_csv(\"animedata.csv\")"
   ]
  },
  {
   "cell_type": "code",
   "execution_count": 17,
   "id": "043d946b",
   "metadata": {},
   "outputs": [
    {
     "data": {
      "text/html": [
       "<div>\n",
       "<style scoped>\n",
       "    .dataframe tbody tr th:only-of-type {\n",
       "        vertical-align: middle;\n",
       "    }\n",
       "\n",
       "    .dataframe tbody tr th {\n",
       "        vertical-align: top;\n",
       "    }\n",
       "\n",
       "    .dataframe thead th {\n",
       "        text-align: right;\n",
       "    }\n",
       "</style>\n",
       "<table border=\"1\" class=\"dataframe\">\n",
       "  <thead>\n",
       "    <tr style=\"text-align: right;\">\n",
       "      <th></th>\n",
       "      <th>name</th>\n",
       "      <th>Type</th>\n",
       "      <th>Plot Summary</th>\n",
       "      <th>Genre</th>\n",
       "      <th>Released</th>\n",
       "      <th>Status</th>\n",
       "      <th>Other name</th>\n",
       "    </tr>\n",
       "  </thead>\n",
       "  <tbody>\n",
       "    <tr>\n",
       "      <th>0</th>\n",
       "      <td>A Channel</td>\n",
       "      <td>TV Series</td>\n",
       "      <td>Toeru takes a test so she can enter the same ...</td>\n",
       "      <td>Comedy, School, Seinen, Slice of Life</td>\n",
       "      <td>2011.0</td>\n",
       "      <td>Completed</td>\n",
       "      <td>A-Channel</td>\n",
       "    </tr>\n",
       "    <tr>\n",
       "      <th>1</th>\n",
       "      <td>A Channel Ova</td>\n",
       "      <td>TV Series</td>\n",
       "      <td>Toeru takes a test so she can enter the same ...</td>\n",
       "      <td>Comedy, School, Seinen, Slice of Life</td>\n",
       "      <td>2012.0</td>\n",
       "      <td>Completed</td>\n",
       "      <td>A-Channel+smile, Aチャンネル+smile（プラス スマイル）</td>\n",
       "    </tr>\n",
       "    <tr>\n",
       "      <th>2</th>\n",
       "      <td>A Channel Special</td>\n",
       "      <td>TV Series</td>\n",
       "      <td>Toeru takes a test so she can enter the same ...</td>\n",
       "      <td>Comedy, School, Seinen, Slice of Life</td>\n",
       "      <td>2011.0</td>\n",
       "      <td>Completed</td>\n",
       "      <td>A-Channel</td>\n",
       "    </tr>\n",
       "    <tr>\n",
       "      <th>3</th>\n",
       "      <td>A Day Before Us</td>\n",
       "      <td>ONA</td>\n",
       "      <td>A Day Before Us is an animated Korean drama o...</td>\n",
       "      <td>Romance</td>\n",
       "      <td>2018.0</td>\n",
       "      <td>Completed</td>\n",
       "      <td>A Day Before Us (Season Zero)</td>\n",
       "    </tr>\n",
       "    <tr>\n",
       "      <th>4</th>\n",
       "      <td>A Disguised Princess</td>\n",
       "      <td>ONA</td>\n",
       "      <td>\"Ken always disguised herself as a man. She w...</td>\n",
       "      <td>Comedy, Drama, Fantasy, Gender Bender, Histor...</td>\n",
       "      <td>2021.0</td>\n",
       "      <td>Completed</td>\n",
       "      <td>NaN</td>\n",
       "    </tr>\n",
       "  </tbody>\n",
       "</table>\n",
       "</div>"
      ],
      "text/plain": [
       "                   name        Type  \\\n",
       "0             A Channel   TV Series   \n",
       "1        A Channel Ova    TV Series   \n",
       "2    A Channel Special    TV Series   \n",
       "3       A Day Before Us         ONA   \n",
       "4  A Disguised Princess         ONA   \n",
       "\n",
       "                                        Plot Summary  \\\n",
       "0   Toeru takes a test so she can enter the same ...   \n",
       "1   Toeru takes a test so she can enter the same ...   \n",
       "2   Toeru takes a test so she can enter the same ...   \n",
       "3   A Day Before Us is an animated Korean drama o...   \n",
       "4   \"Ken always disguised herself as a man. She w...   \n",
       "\n",
       "                                               Genre Released      Status  \\\n",
       "0              Comedy, School, Seinen, Slice of Life   2011.0   Completed   \n",
       "1              Comedy, School, Seinen, Slice of Life   2012.0   Completed   \n",
       "2              Comedy, School, Seinen, Slice of Life   2011.0   Completed   \n",
       "3                                            Romance   2018.0   Completed   \n",
       "4   Comedy, Drama, Fantasy, Gender Bender, Histor...   2021.0   Completed   \n",
       "\n",
       "                                 Other name  \n",
       "0                                 A-Channel  \n",
       "1   A-Channel+smile, Aチャンネル+smile（プラス スマイル）  \n",
       "2                                 A-Channel  \n",
       "3             A Day Before Us (Season Zero)  \n",
       "4                                       NaN  "
      ]
     },
     "execution_count": 17,
     "metadata": {},
     "output_type": "execute_result"
    }
   ],
   "source": [
    "df.head()"
   ]
  },
  {
   "cell_type": "code",
   "execution_count": 23,
   "id": "27e788c8",
   "metadata": {},
   "outputs": [],
   "source": [
    "df['text'] = \"name: \"+df['name'] + \" plot summary: \" +df['Plot Summary']"
   ]
  },
  {
   "cell_type": "code",
   "execution_count": 29,
   "id": "53046656",
   "metadata": {},
   "outputs": [],
   "source": [
    "my_list =df['text'].tolist()"
   ]
  },
  {
   "cell_type": "code",
   "execution_count": 32,
   "id": "ff592e3b",
   "metadata": {},
   "outputs": [],
   "source": [
    "my_list = [str(element) for element in my_list]"
   ]
  },
  {
   "cell_type": "code",
   "execution_count": 33,
   "id": "5e298191",
   "metadata": {},
   "outputs": [],
   "source": [
    "file_path= 'input.txt'"
   ]
  },
  {
   "cell_type": "code",
   "execution_count": 34,
   "id": "ce08d50b",
   "metadata": {},
   "outputs": [
    {
     "name": "stdout",
     "output_type": "stream",
     "text": [
      "List saved as a text file.\n"
     ]
    }
   ],
   "source": [
    "with open(file_path, 'w') as file:\n",
    "    file.writelines('\\n'.join(my_list))\n",
    "\n",
    "print(\"List saved as a text file.\")\n"
   ]
  },
  {
   "cell_type": "code",
   "execution_count": null,
   "id": "36d28830",
   "metadata": {},
   "outputs": [],
   "source": []
  }
 ],
 "metadata": {
  "kernelspec": {
   "display_name": "Python 3 (ipykernel)",
   "language": "python",
   "name": "python3"
  },
  "language_info": {
   "codemirror_mode": {
    "name": "ipython",
    "version": 3
   },
   "file_extension": ".py",
   "mimetype": "text/x-python",
   "name": "python",
   "nbconvert_exporter": "python",
   "pygments_lexer": "ipython3",
   "version": "3.10.9"
  }
 },
 "nbformat": 4,
 "nbformat_minor": 5
}
