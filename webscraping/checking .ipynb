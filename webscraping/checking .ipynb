{
 "cells": [
  {
   "cell_type": "code",
   "execution_count": 7,
   "id": "92f0cf66",
   "metadata": {},
   "outputs": [],
   "source": [
    "import pandas as pd"
   ]
  },
  {
   "cell_type": "code",
   "execution_count": 11,
   "id": "610317b3",
   "metadata": {},
   "outputs": [],
   "source": [
    "df = pd.read_csv('data_3.csv')"
   ]
  },
  {
   "cell_type": "code",
   "execution_count": 12,
   "id": "731bf8fa",
   "metadata": {},
   "outputs": [
    {
     "data": {
      "text/html": [
       "<div>\n",
       "<style scoped>\n",
       "    .dataframe tbody tr th:only-of-type {\n",
       "        vertical-align: middle;\n",
       "    }\n",
       "\n",
       "    .dataframe tbody tr th {\n",
       "        vertical-align: top;\n",
       "    }\n",
       "\n",
       "    .dataframe thead th {\n",
       "        text-align: right;\n",
       "    }\n",
       "</style>\n",
       "<table border=\"1\" class=\"dataframe\">\n",
       "  <thead>\n",
       "    <tr style=\"text-align: right;\">\n",
       "      <th></th>\n",
       "      <th>name</th>\n",
       "      <th>Type</th>\n",
       "      <th>Plot Summary</th>\n",
       "      <th>Genre</th>\n",
       "      <th>Released</th>\n",
       "      <th>Status</th>\n",
       "      <th>Other name</th>\n",
       "    </tr>\n",
       "  </thead>\n",
       "  <tbody>\n",
       "    <tr>\n",
       "      <th>0</th>\n",
       "      <td>A Channel</td>\n",
       "      <td>TV Series</td>\n",
       "      <td>Toeru takes a test so she can enter the same ...</td>\n",
       "      <td>Comedy, School, Seinen, Slice of Life</td>\n",
       "      <td>2011</td>\n",
       "      <td>Completed</td>\n",
       "      <td>A-Channel</td>\n",
       "    </tr>\n",
       "    <tr>\n",
       "      <th>1</th>\n",
       "      <td>A Channel Ova</td>\n",
       "      <td>TV Series</td>\n",
       "      <td>Toeru takes a test so she can enter the same ...</td>\n",
       "      <td>Comedy, School, Seinen, Slice of Life</td>\n",
       "      <td>2012</td>\n",
       "      <td>Completed</td>\n",
       "      <td>A-Channel+smile, Aチャンネル+smile（プラス スマイル）</td>\n",
       "    </tr>\n",
       "    <tr>\n",
       "      <th>2</th>\n",
       "      <td>A Channel Special</td>\n",
       "      <td>TV Series</td>\n",
       "      <td>Toeru takes a test so she can enter the same ...</td>\n",
       "      <td>Comedy, School, Seinen, Slice of Life</td>\n",
       "      <td>2011</td>\n",
       "      <td>Completed</td>\n",
       "      <td>A-Channel</td>\n",
       "    </tr>\n",
       "    <tr>\n",
       "      <th>3</th>\n",
       "      <td>A Day Before Us</td>\n",
       "      <td>ONA</td>\n",
       "      <td>A Day Before Us is an animated Korean drama o...</td>\n",
       "      <td>Romance</td>\n",
       "      <td>2018</td>\n",
       "      <td>Completed</td>\n",
       "      <td>A Day Before Us (Season Zero)</td>\n",
       "    </tr>\n",
       "  </tbody>\n",
       "</table>\n",
       "</div>"
      ],
      "text/plain": [
       "                 name        Type  \\\n",
       "0           A Channel   TV Series   \n",
       "1      A Channel Ova    TV Series   \n",
       "2  A Channel Special    TV Series   \n",
       "3     A Day Before Us         ONA   \n",
       "\n",
       "                                        Plot Summary  \\\n",
       "0   Toeru takes a test so she can enter the same ...   \n",
       "1   Toeru takes a test so she can enter the same ...   \n",
       "2   Toeru takes a test so she can enter the same ...   \n",
       "3   A Day Before Us is an animated Korean drama o...   \n",
       "\n",
       "                                    Genre  Released      Status  \\\n",
       "0   Comedy, School, Seinen, Slice of Life      2011   Completed   \n",
       "1   Comedy, School, Seinen, Slice of Life      2012   Completed   \n",
       "2   Comedy, School, Seinen, Slice of Life      2011   Completed   \n",
       "3                                 Romance      2018   Completed   \n",
       "\n",
       "                                 Other name  \n",
       "0                                 A-Channel  \n",
       "1   A-Channel+smile, Aチャンネル+smile（プラス スマイル）  \n",
       "2                                 A-Channel  \n",
       "3             A Day Before Us (Season Zero)  "
      ]
     },
     "execution_count": 12,
     "metadata": {},
     "output_type": "execute_result"
    }
   ],
   "source": [
    "df"
   ]
  },
  {
   "cell_type": "code",
   "execution_count": null,
   "id": "d29552f9",
   "metadata": {},
   "outputs": [],
   "source": []
  }
 ],
 "metadata": {
  "kernelspec": {
   "display_name": "Python 3 (ipykernel)",
   "language": "python",
   "name": "python3"
  },
  "language_info": {
   "codemirror_mode": {
    "name": "ipython",
    "version": 3
   },
   "file_extension": ".py",
   "mimetype": "text/x-python",
   "name": "python",
   "nbconvert_exporter": "python",
   "pygments_lexer": "ipython3",
   "version": "3.10.9"
  }
 },
 "nbformat": 4,
 "nbformat_minor": 5
}
